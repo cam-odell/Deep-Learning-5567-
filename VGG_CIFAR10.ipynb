{
  "nbformat": 4,
  "nbformat_minor": 0,
  "metadata": {
    "colab": {
      "provenance": [],
      "machine_shape": "hm",
      "gpuType": "T4"
    },
    "kernelspec": {
      "name": "python3",
      "display_name": "Python 3"
    },
    "language_info": {
      "name": "python"
    },
    "accelerator": "GPU"
  },
  "cells": [
    {
      "cell_type": "code",
      "execution_count": null,
      "metadata": {
        "id": "IDN2pRAtbERn"
      },
      "outputs": [],
      "source": [
        "import keras\n",
        "from keras.applications import VGG19\n",
        "from keras.models import Sequential\n",
        "from keras.layers import Dense, Flatten, Dropout, GlobalAveragePooling2D\n",
        "from keras.datasets import cifar10\n",
        "from keras.utils import to_categorical\n",
        "from keras.preprocessing.image import ImageDataGenerator\n",
        "import numpy as np\n",
        "import cv2"
      ]
    },
    {
      "cell_type": "code",
      "source": [
        "(x_train, y_train), (x_val, y_val) = cifar10.load_data()\n",
        "\n",
        "y_train = to_categorical(y_train, 10)\n",
        "y_val = to_categorical(y_val, 10)"
      ],
      "metadata": {
        "colab": {
          "base_uri": "https://localhost:8080/"
        },
        "id": "5It_5yJ4bKPY",
        "outputId": "322116e4-b288-46d5-80f7-47333e2a231d"
      },
      "execution_count": null,
      "outputs": [
        {
          "output_type": "stream",
          "name": "stdout",
          "text": [
            "Downloading data from https://www.cs.toronto.edu/~kriz/cifar-10-python.tar.gz\n",
            "170498071/170498071 [==============================] - 13s 0us/step\n"
          ]
        }
      ]
    },
    {
      "cell_type": "code",
      "source": [
        "vgg19_model = VGG19(include_top=False, weights='imagenet', input_shape=(224, 224, 3))\n",
        "\n",
        "model = Sequential()\n",
        "model.add(vgg19_model)\n",
        "model.add(GlobalAveragePooling2D())\n",
        "model.add(Dense(512, activation='relu'))\n",
        "model.add(Dropout(0.5))\n",
        "model.add(Dense(10, activation='softmax'))\n",
        "\n",
        "vgg19_model.trainable = False\n"
      ],
      "metadata": {
        "colab": {
          "base_uri": "https://localhost:8080/"
        },
        "id": "OV32VnDRbNiD",
        "outputId": "f6396a54-5308-4b81-cc7c-671ec5f2fd6e"
      },
      "execution_count": null,
      "outputs": [
        {
          "output_type": "stream",
          "name": "stdout",
          "text": [
            "Downloading data from https://storage.googleapis.com/tensorflow/keras-applications/vgg19/vgg19_weights_tf_dim_ordering_tf_kernels_notop.h5\n",
            "80134624/80134624 [==============================] - 5s 0us/step\n"
          ]
        }
      ]
    },
    {
      "cell_type": "code",
      "source": [
        "model.compile(optimizer=\"adam\", loss=\"categorical_crossentropy\", metrics=[\"categorical_accuracy\"])\n",
        "\n",
        "import cv2\n",
        "from keras.preprocessing.image import ImageDataGenerator\n",
        "\n",
        "datagen = ImageDataGenerator(\n",
        "    rescale=1./255,\n",
        "    preprocessing_function=lambda x: cv2.resize(x, (32, 32), interpolation=cv2.INTER_CUBIC)\n",
        ")\n",
        "\n",
        "train_iterator = datagen.flow(x_train, y_train, batch_size=128)\n",
        "val_iterator = datagen.flow(x_val, y_val, batch_size=128)"
      ],
      "metadata": {
        "id": "5toCk-oVbOme"
      },
      "execution_count": null,
      "outputs": []
    },
    {
      "cell_type": "code",
      "source": [
        "from keras.callbacks import EarlyStopping\n",
        "\n",
        "early_stop = EarlyStopping(\n",
        "    monitor='val_loss',\n",
        "    patience=5,\n",
        "    min_delta=0.001,\n",
        "    verbose=1,\n",
        "    restore_best_weights=True\n",
        ")\n",
        "\n",
        "model.fit(\n",
        "    train_iterator,\n",
        "    epochs=30,\n",
        "    validation_data=val_iterator,\n",
        "    callbacks=[early_stop]\n",
        ")"
      ],
      "metadata": {
        "colab": {
          "base_uri": "https://localhost:8080/"
        },
        "id": "K5XZi39ebP73",
        "outputId": "cdca05ca-9a72-43bf-abe6-7b708b0f3212"
      },
      "execution_count": null,
      "outputs": [
        {
          "output_type": "stream",
          "name": "stdout",
          "text": [
            "Epoch 1/30\n",
            "391/391 [==============================] - 16s 27ms/step - loss: 1.5295 - categorical_accuracy: 0.4611 - val_loss: 1.3295 - val_categorical_accuracy: 0.5292\n",
            "Epoch 2/30\n",
            "391/391 [==============================] - 9s 23ms/step - loss: 1.3307 - categorical_accuracy: 0.5318 - val_loss: 1.2539 - val_categorical_accuracy: 0.5580\n",
            "Epoch 3/30\n",
            "391/391 [==============================] - 9s 23ms/step - loss: 1.2746 - categorical_accuracy: 0.5521 - val_loss: 1.2266 - val_categorical_accuracy: 0.5650\n",
            "Epoch 4/30\n",
            "391/391 [==============================] - 9s 23ms/step - loss: 1.2335 - categorical_accuracy: 0.5668 - val_loss: 1.2026 - val_categorical_accuracy: 0.5750\n",
            "Epoch 5/30\n",
            "391/391 [==============================] - 9s 23ms/step - loss: 1.2054 - categorical_accuracy: 0.5766 - val_loss: 1.1811 - val_categorical_accuracy: 0.5838\n",
            "Epoch 6/30\n",
            "391/391 [==============================] - 9s 24ms/step - loss: 1.1807 - categorical_accuracy: 0.5841 - val_loss: 1.1620 - val_categorical_accuracy: 0.5947\n",
            "Epoch 7/30\n",
            "391/391 [==============================] - 9s 24ms/step - loss: 1.1595 - categorical_accuracy: 0.5940 - val_loss: 1.1534 - val_categorical_accuracy: 0.5952\n",
            "Epoch 8/30\n",
            "391/391 [==============================] - 9s 24ms/step - loss: 1.1426 - categorical_accuracy: 0.5966 - val_loss: 1.1527 - val_categorical_accuracy: 0.5954\n",
            "Epoch 9/30\n",
            "391/391 [==============================] - 9s 24ms/step - loss: 1.1281 - categorical_accuracy: 0.6019 - val_loss: 1.1395 - val_categorical_accuracy: 0.6027\n",
            "Epoch 10/30\n",
            "391/391 [==============================] - 10s 24ms/step - loss: 1.1137 - categorical_accuracy: 0.6089 - val_loss: 1.1325 - val_categorical_accuracy: 0.6063\n",
            "Epoch 11/30\n",
            "391/391 [==============================] - 9s 24ms/step - loss: 1.0973 - categorical_accuracy: 0.6142 - val_loss: 1.1333 - val_categorical_accuracy: 0.6034\n",
            "Epoch 12/30\n",
            "391/391 [==============================] - 9s 24ms/step - loss: 1.0849 - categorical_accuracy: 0.6172 - val_loss: 1.1239 - val_categorical_accuracy: 0.6104\n",
            "Epoch 13/30\n",
            "391/391 [==============================] - 9s 24ms/step - loss: 1.0741 - categorical_accuracy: 0.6204 - val_loss: 1.1238 - val_categorical_accuracy: 0.6080\n",
            "Epoch 14/30\n",
            "391/391 [==============================] - 9s 24ms/step - loss: 1.0637 - categorical_accuracy: 0.6254 - val_loss: 1.1190 - val_categorical_accuracy: 0.6134\n",
            "Epoch 15/30\n",
            "391/391 [==============================] - 9s 24ms/step - loss: 1.0474 - categorical_accuracy: 0.6292 - val_loss: 1.1196 - val_categorical_accuracy: 0.6080\n",
            "Epoch 16/30\n",
            "391/391 [==============================] - 9s 24ms/step - loss: 1.0383 - categorical_accuracy: 0.6342 - val_loss: 1.1280 - val_categorical_accuracy: 0.6087\n",
            "Epoch 17/30\n",
            "391/391 [==============================] - 9s 24ms/step - loss: 1.0295 - categorical_accuracy: 0.6360 - val_loss: 1.1055 - val_categorical_accuracy: 0.6126\n",
            "Epoch 18/30\n",
            "391/391 [==============================] - 9s 24ms/step - loss: 1.0217 - categorical_accuracy: 0.6384 - val_loss: 1.1074 - val_categorical_accuracy: 0.6180\n",
            "Epoch 19/30\n",
            "391/391 [==============================] - 9s 24ms/step - loss: 1.0085 - categorical_accuracy: 0.6443 - val_loss: 1.0995 - val_categorical_accuracy: 0.6233\n",
            "Epoch 20/30\n",
            "391/391 [==============================] - 9s 24ms/step - loss: 0.9997 - categorical_accuracy: 0.6469 - val_loss: 1.0980 - val_categorical_accuracy: 0.6191\n",
            "Epoch 21/30\n",
            "391/391 [==============================] - 9s 24ms/step - loss: 0.9867 - categorical_accuracy: 0.6523 - val_loss: 1.1010 - val_categorical_accuracy: 0.6259\n",
            "Epoch 22/30\n",
            "391/391 [==============================] - 9s 24ms/step - loss: 0.9798 - categorical_accuracy: 0.6549 - val_loss: 1.1031 - val_categorical_accuracy: 0.6189\n",
            "Epoch 23/30\n",
            "391/391 [==============================] - 9s 24ms/step - loss: 0.9726 - categorical_accuracy: 0.6564 - val_loss: 1.0953 - val_categorical_accuracy: 0.6231\n",
            "Epoch 24/30\n",
            "391/391 [==============================] - 9s 24ms/step - loss: 0.9624 - categorical_accuracy: 0.6592 - val_loss: 1.1031 - val_categorical_accuracy: 0.6213\n",
            "Epoch 25/30\n",
            "391/391 [==============================] - 9s 24ms/step - loss: 0.9519 - categorical_accuracy: 0.6626 - val_loss: 1.1000 - val_categorical_accuracy: 0.6176\n",
            "Epoch 26/30\n",
            "391/391 [==============================] - 9s 24ms/step - loss: 0.9424 - categorical_accuracy: 0.6672 - val_loss: 1.0976 - val_categorical_accuracy: 0.6207\n",
            "Epoch 27/30\n",
            "391/391 [==============================] - 9s 24ms/step - loss: 0.9384 - categorical_accuracy: 0.6654 - val_loss: 1.1071 - val_categorical_accuracy: 0.6206\n",
            "Epoch 28/30\n",
            "391/391 [==============================] - ETA: 0s - loss: 0.9298 - categorical_accuracy: 0.6708Restoring model weights from the end of the best epoch: 23.\n",
            "391/391 [==============================] - 9s 24ms/step - loss: 0.9298 - categorical_accuracy: 0.6708 - val_loss: 1.1063 - val_categorical_accuracy: 0.6274\n",
            "Epoch 28: early stopping\n"
          ]
        },
        {
          "output_type": "execute_result",
          "data": {
            "text/plain": [
              "<keras.src.callbacks.History at 0x79d7e635d810>"
            ]
          },
          "metadata": {},
          "execution_count": 5
        }
      ]
    }
  ]
}